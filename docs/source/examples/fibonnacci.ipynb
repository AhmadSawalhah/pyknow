{
 "cells": [
  {
   "cell_type": "code",
   "execution_count": 1,
   "metadata": {
    "collapsed": false,
    "deletable": true,
    "editable": true
   },
   "outputs": [],
   "source": [
    "from pyknow import *"
   ]
  },
  {
   "cell_type": "code",
   "execution_count": 2,
   "metadata": {
    "collapsed": false,
    "deletable": true,
    "editable": true
   },
   "outputs": [],
   "source": [
    "class Fibbo(KnowledgeEngine):\n",
    "    \"\"\"\n",
    "    Calculate the fibbonacci digit in position MAX.\n",
    "    \n",
    "    \"\"\"\n",
    "    MAX = 42\n",
    "    \n",
    "    @Rule()\n",
    "    def first_digit(self):\n",
    "        self.declare(Fact(pos=1, value=1))\n",
    "\n",
    "    @Rule(Fact(pos=1))\n",
    "    def second_digit(self):\n",
    "        self.declare(Fact(pos=2, value=1))\n",
    "        \n",
    "    @Rule(Fact(pos='pos1' << W(),\n",
    "               value='value1' << W()),\n",
    "          Fact(pos='pos2' << P(lambda x: x < Fibbo.MAX),\n",
    "               value='value2' << W()),\n",
    "          where=lambda pos1, pos2: pos2 == pos1 + 1)\n",
    "    def compute_next(self, pos1, pos2, value1, value2):\n",
    "        self.declare(Fact(pos=pos2 + 1, value=value1 + value2))\n",
    "    \n",
    "    @Rule(Fact(pos='pos' << L(MAX), value='value' << W()))\n",
    "    def print_last(self, pos, value):\n",
    "        print(\"Fibonnaci digit in position {pos} is {value}\".format(\n",
    "            pos=pos, value=value))"
   ]
  },
  {
   "cell_type": "code",
   "execution_count": 3,
   "metadata": {
    "collapsed": false,
    "deletable": true,
    "editable": true
   },
   "outputs": [],
   "source": [
    "f = Fibbo()"
   ]
  },
  {
   "cell_type": "code",
   "execution_count": 4,
   "metadata": {
    "collapsed": false,
    "deletable": true,
    "editable": true
   },
   "outputs": [],
   "source": [
    "# watch(RULES, FACTS, ACTIVATIONS)"
   ]
  },
  {
   "cell_type": "code",
   "execution_count": 5,
   "metadata": {
    "collapsed": false,
    "deletable": true,
    "editable": true,
    "scrolled": false
   },
   "outputs": [
    {
     "name": "stderr",
     "output_type": "stream",
     "text": [
      "INFO:pyknow.watchers.RULES:FIRE 1 first_digit: <f-0>\n",
      "INFO:pyknow.watchers.RULES:FIRE 2 second_digit: <f-1>\n",
      "INFO:pyknow.watchers.RULES:FIRE 3 compute_next: <f-2>, <f-1>\n",
      "INFO:pyknow.watchers.RULES:FIRE 4 compute_next: <f-2>, <f-3>\n",
      "INFO:pyknow.watchers.RULES:FIRE 5 compute_next: <f-3>, <f-4>\n",
      "INFO:pyknow.watchers.RULES:FIRE 6 compute_next: <f-5>, <f-4>\n",
      "INFO:pyknow.watchers.RULES:FIRE 7 compute_next: <f-5>, <f-6>\n",
      "INFO:pyknow.watchers.RULES:FIRE 8 compute_next: <f-7>, <f-6>\n",
      "INFO:pyknow.watchers.RULES:FIRE 9 compute_next: <f-8>, <f-7>\n",
      "INFO:pyknow.watchers.RULES:FIRE 10 compute_next: <f-8>, <f-9>\n",
      "INFO:pyknow.watchers.RULES:FIRE 11 compute_next: <f-10>, <f-9>\n",
      "INFO:pyknow.watchers.RULES:FIRE 12 compute_next: <f-10>, <f-11>\n",
      "INFO:pyknow.watchers.RULES:FIRE 13 compute_next: <f-12>, <f-11>\n",
      "INFO:pyknow.watchers.RULES:FIRE 14 compute_next: <f-12>, <f-13>\n",
      "INFO:pyknow.watchers.RULES:FIRE 15 compute_next: <f-14>, <f-13>\n",
      "INFO:pyknow.watchers.RULES:FIRE 16 compute_next: <f-14>, <f-15>\n",
      "INFO:pyknow.watchers.RULES:FIRE 17 compute_next: <f-15>, <f-16>\n",
      "INFO:pyknow.watchers.RULES:FIRE 18 compute_next: <f-17>, <f-16>\n",
      "INFO:pyknow.watchers.RULES:FIRE 19 compute_next: <f-17>, <f-18>\n",
      "INFO:pyknow.watchers.RULES:FIRE 20 compute_next: <f-19>, <f-18>\n",
      "INFO:pyknow.watchers.RULES:FIRE 21 compute_next: <f-20>, <f-19>\n",
      "INFO:pyknow.watchers.RULES:FIRE 22 compute_next: <f-20>, <f-21>\n",
      "INFO:pyknow.watchers.RULES:FIRE 23 compute_next: <f-22>, <f-21>\n",
      "INFO:pyknow.watchers.RULES:FIRE 24 compute_next: <f-22>, <f-23>\n",
      "INFO:pyknow.watchers.RULES:FIRE 25 compute_next: <f-24>, <f-23>\n",
      "INFO:pyknow.watchers.RULES:FIRE 26 compute_next: <f-24>, <f-25>\n",
      "INFO:pyknow.watchers.RULES:FIRE 27 compute_next: <f-26>, <f-25>\n",
      "INFO:pyknow.watchers.RULES:FIRE 28 compute_next: <f-26>, <f-27>\n",
      "INFO:pyknow.watchers.RULES:FIRE 29 compute_next: <f-27>, <f-28>\n",
      "INFO:pyknow.watchers.RULES:FIRE 30 compute_next: <f-29>, <f-28>\n",
      "INFO:pyknow.watchers.RULES:FIRE 31 compute_next: <f-29>, <f-30>\n",
      "INFO:pyknow.watchers.RULES:FIRE 32 compute_next: <f-31>, <f-30>\n",
      "INFO:pyknow.watchers.RULES:FIRE 33 compute_next: <f-32>, <f-31>\n",
      "INFO:pyknow.watchers.RULES:FIRE 34 compute_next: <f-32>, <f-33>\n",
      "INFO:pyknow.watchers.RULES:FIRE 35 compute_next: <f-34>, <f-33>\n",
      "INFO:pyknow.watchers.RULES:FIRE 36 compute_next: <f-34>, <f-35>\n",
      "INFO:pyknow.watchers.RULES:FIRE 37 compute_next: <f-36>, <f-35>\n",
      "INFO:pyknow.watchers.RULES:FIRE 38 compute_next: <f-36>, <f-37>\n",
      "INFO:pyknow.watchers.RULES:FIRE 39 compute_next: <f-38>, <f-37>\n",
      "INFO:pyknow.watchers.RULES:FIRE 40 compute_next: <f-38>, <f-39>\n",
      "INFO:pyknow.watchers.RULES:FIRE 41 compute_next: <f-39>, <f-40>\n",
      "INFO:pyknow.watchers.RULES:FIRE 42 compute_next: <f-41>, <f-40>\n",
      "INFO:pyknow.watchers.RULES:FIRE 43 print_last: <f-42>\n"
     ]
    },
    {
     "name": "stdout",
     "output_type": "stream",
     "text": [
      "Fibonnaci digit in position 42 is 267914296\n"
     ]
    }
   ],
   "source": [
    "watch(RULES)\n",
    "f.reset()\n",
    "f.run()"
   ]
  }
 ],
 "metadata": {
  "kernelspec": {
   "display_name": "Python 3",
   "language": "python",
   "name": "python3"
  },
  "language_info": {
   "codemirror_mode": {
    "name": "ipython",
    "version": 3
   },
   "file_extension": ".py",
   "mimetype": "text/x-python",
   "name": "python",
   "nbconvert_exporter": "python",
   "pygments_lexer": "ipython3",
   "version": "3.4.1"
  }
 },
 "nbformat": 4,
 "nbformat_minor": 2
}
